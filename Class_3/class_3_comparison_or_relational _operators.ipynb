{
 "cells": [
  {
   "cell_type": "markdown",
   "metadata": {},
   "source": [
    "# Practical example of comparison or relational operators in Python\n",
    "\n",
    "Trainer: Md. Babul Miah\n",
    "    \n",
    "Assistant director of Research Society (https://researchsociety20.org/teacher-trainer/)\n",
    "    \n",
    "email: babul.bsmrstu16@gmail.com, babul@jbnu.ac.kr, assistant.director@researchsociety20.org\n",
    "\n",
    "& \n",
    "\n",
    "Trainer: Md. Jalal Uddin\n",
    "    \n",
    "Founder and director of Research Society (https://researchsociety20.org/founder-and-director/)\n",
    "    \n",
    "email: dmjalal90@gmail.com, 20205103002@nuist.edu.cn, founder-and-director@researchsociety20.org\n"
   ]
  },
  {
   "cell_type": "markdown",
   "metadata": {},
   "source": [
    "# Define variable"
   ]
  },
  {
   "cell_type": "code",
   "execution_count": 1,
   "metadata": {},
   "outputs": [],
   "source": [
    "a = 5\n",
    "b = 6\n",
    "\n",
    "#Ctrl + Enter = execute"
   ]
  },
  {
   "cell_type": "markdown",
   "metadata": {},
   "source": [
    "# Comparison or relational operators by Syntax"
   ]
  },
  {
   "cell_type": "code",
   "execution_count": 2,
   "metadata": {},
   "outputs": [
    {
     "name": "stdout",
     "output_type": "stream",
     "text": [
      "If a is greater than b = False\n",
      "If a is less than b = True\n",
      "If a is equal to b = False\n",
      "If a is not equal to b = True\n",
      "If a is greater than or equal to b = False\n",
      "If a is less than or equal to b = True\n"
     ]
    }
   ],
   "source": [
    "print('If a is greater than b =',a>b)\n",
    "\n",
    "print('If a is less than b =',a<b)\n",
    "\n",
    "print('If a is equal to b =',a==b)\n",
    "\n",
    "print('If a is not equal to b =',a!=b)\n",
    "\n",
    "print('If a is greater than or equal to b =',a>=b)\n",
    "\n",
    "print('If a is less than or equal to b =',a<=b)\n"
   ]
  },
  {
   "cell_type": "markdown",
   "metadata": {},
   "source": [
    "# Comparison or relational operators by Function"
   ]
  },
  {
   "cell_type": "code",
   "execution_count": 3,
   "metadata": {},
   "outputs": [
    {
     "name": "stdout",
     "output_type": "stream",
     "text": [
      "If a is greater than b = False\n",
      "If a is less than b = True\n",
      "If a is equal to b = False\n",
      "If a is not equal to b = True\n",
      "If a is greater than or equal to b = False\n",
      "If a is less than or equal to b = True\n"
     ]
    }
   ],
   "source": [
    "import operator as op\n",
    "\n",
    "print('If a is greater than b =',op.gt(a,b))\n",
    "\n",
    "print('If a is less than b =',op.lt(a,b))\n",
    "\n",
    "print('If a is equal to b =',op.eq(a,b))\n",
    "\n",
    "print('If a is not equal to b =',op.ne(a,b))\n",
    "\n",
    "print('If a is greater than or equal to b =',op.ge(a,b))\n",
    "\n",
    "print('If a is less than or equal to b =',op.le(a,b))\n"
   ]
  },
  {
   "cell_type": "markdown",
   "metadata": {},
   "source": [
    "# Example for real data\n",
    "\n",
    "We will monitor drought (water scarcity) for Rangpur station in Bangladesh from 1994 to 1995\n",
    "\n",
    "The example has been adapted from Uddin et al. (2020). https://link.springer.com/article/10.1007/s12517-020-05302-0"
   ]
  },
  {
   "cell_type": "code",
   "execution_count": 4,
   "metadata": {},
   "outputs": [
    {
     "data": {
      "text/html": [
       "<div>\n",
       "<style scoped>\n",
       "    .dataframe tbody tr th:only-of-type {\n",
       "        vertical-align: middle;\n",
       "    }\n",
       "\n",
       "    .dataframe tbody tr th {\n",
       "        vertical-align: top;\n",
       "    }\n",
       "\n",
       "    .dataframe thead th {\n",
       "        text-align: right;\n",
       "    }\n",
       "</style>\n",
       "<table border=\"1\" class=\"dataframe\">\n",
       "  <thead>\n",
       "    <tr style=\"text-align: right;\">\n",
       "      <th></th>\n",
       "      <th>Year and month</th>\n",
       "      <th>SPI</th>\n",
       "    </tr>\n",
       "  </thead>\n",
       "  <tbody>\n",
       "    <tr>\n",
       "      <th>0</th>\n",
       "      <td>1983-01</td>\n",
       "      <td>-0.285149</td>\n",
       "    </tr>\n",
       "    <tr>\n",
       "      <th>1</th>\n",
       "      <td>1983-02</td>\n",
       "      <td>-0.299666</td>\n",
       "    </tr>\n",
       "    <tr>\n",
       "      <th>2</th>\n",
       "      <td>1983-03</td>\n",
       "      <td>-0.229297</td>\n",
       "    </tr>\n",
       "    <tr>\n",
       "      <th>3</th>\n",
       "      <td>1983-04</td>\n",
       "      <td>-0.382996</td>\n",
       "    </tr>\n",
       "    <tr>\n",
       "      <th>4</th>\n",
       "      <td>1983-05</td>\n",
       "      <td>-0.060437</td>\n",
       "    </tr>\n",
       "    <tr>\n",
       "      <th>...</th>\n",
       "      <td>...</td>\n",
       "      <td>...</td>\n",
       "    </tr>\n",
       "    <tr>\n",
       "      <th>151</th>\n",
       "      <td>1995-08</td>\n",
       "      <td>-1.246152</td>\n",
       "    </tr>\n",
       "    <tr>\n",
       "      <th>152</th>\n",
       "      <td>1995-09</td>\n",
       "      <td>0.137164</td>\n",
       "    </tr>\n",
       "    <tr>\n",
       "      <th>153</th>\n",
       "      <td>1995-10</td>\n",
       "      <td>0.033580</td>\n",
       "    </tr>\n",
       "    <tr>\n",
       "      <th>154</th>\n",
       "      <td>1995-11</td>\n",
       "      <td>0.230198</td>\n",
       "    </tr>\n",
       "    <tr>\n",
       "      <th>155</th>\n",
       "      <td>1995-12</td>\n",
       "      <td>0.266236</td>\n",
       "    </tr>\n",
       "  </tbody>\n",
       "</table>\n",
       "<p>156 rows × 2 columns</p>\n",
       "</div>"
      ],
      "text/plain": [
       "    Year and month       SPI\n",
       "0          1983-01 -0.285149\n",
       "1          1983-02 -0.299666\n",
       "2          1983-03 -0.229297\n",
       "3          1983-04 -0.382996\n",
       "4          1983-05 -0.060437\n",
       "..             ...       ...\n",
       "151        1995-08 -1.246152\n",
       "152        1995-09  0.137164\n",
       "153        1995-10  0.033580\n",
       "154        1995-11  0.230198\n",
       "155        1995-12  0.266236\n",
       "\n",
       "[156 rows x 2 columns]"
      ]
     },
     "execution_count": 4,
     "metadata": {},
     "output_type": "execute_result"
    }
   ],
   "source": [
    "import pandas as pd\n",
    "\n",
    "dataset = pd.read_excel('drought_data.xlsx')\n",
    "\n",
    "dataset.head(156)"
   ]
  },
  {
   "cell_type": "code",
   "execution_count": 5,
   "metadata": {},
   "outputs": [
    {
     "data": {
      "text/plain": [
       "133    0.289110\n",
       "134    0.291538\n",
       "135    0.238511\n",
       "136    0.236418\n",
       "137   -0.093880\n",
       "138   -0.739471\n",
       "139   -1.712723\n",
       "140   -2.163714\n",
       "141   -2.230607\n",
       "142   -2.245852\n",
       "143   -2.300033\n",
       "144   -2.476514\n",
       "Name: SPI, dtype: float64"
      ]
     },
     "execution_count": 5,
     "metadata": {},
     "output_type": "execute_result"
    }
   ],
   "source": [
    "SPI = dataset.SPI[133:156]   # 1994-1995\n",
    "\n",
    "SPI.head(12)"
   ]
  },
  {
   "cell_type": "markdown",
   "metadata": {},
   "source": [
    "# Comparison or relational operators by Syntax and Function"
   ]
  },
  {
   "cell_type": "code",
   "execution_count": 6,
   "metadata": {},
   "outputs": [
    {
     "name": "stdout",
     "output_type": "stream",
     "text": [
      "Extreme drought   = \n",
      " 133    False\n",
      "134    False\n",
      "135    False\n",
      "136    False\n",
      "137    False\n",
      "138    False\n",
      "139    False\n",
      "140     True\n",
      "141     True\n",
      "142     True\n",
      "143     True\n",
      "144     True\n",
      "145     True\n",
      "146     True\n",
      "147     True\n",
      "148     True\n",
      "149     True\n",
      "150     True\n",
      "151    False\n",
      "152    False\n",
      "153    False\n",
      "154    False\n",
      "155    False\n",
      "Name: SPI, dtype: bool\n",
      "Extreme drought   = \n",
      " 133    False\n",
      "134    False\n",
      "135    False\n",
      "136    False\n",
      "137    False\n",
      "138    False\n",
      "139    False\n",
      "140     True\n",
      "141     True\n",
      "142     True\n",
      "143     True\n",
      "144     True\n",
      "145     True\n",
      "146     True\n",
      "147     True\n",
      "148     True\n",
      "149     True\n",
      "150     True\n",
      "151    False\n",
      "152    False\n",
      "153    False\n",
      "154    False\n",
      "155    False\n",
      "Name: SPI, dtype: bool\n"
     ]
    }
   ],
   "source": [
    "print('Extreme drought   = \\n',SPI<=-2)\n",
    "\n",
    "Threshold = -2\n",
    "print('Extreme drought   = \\n',op.le(SPI,Threshold))"
   ]
  },
  {
   "cell_type": "markdown",
   "metadata": {},
   "source": [
    "# Monitor extreme drought for whole years and create a dataframe as extreme_drought"
   ]
  },
  {
   "cell_type": "code",
   "execution_count": 7,
   "metadata": {},
   "outputs": [
    {
     "data": {
      "text/html": [
       "<div>\n",
       "<style scoped>\n",
       "    .dataframe tbody tr th:only-of-type {\n",
       "        vertical-align: middle;\n",
       "    }\n",
       "\n",
       "    .dataframe tbody tr th {\n",
       "        vertical-align: top;\n",
       "    }\n",
       "\n",
       "    .dataframe thead th {\n",
       "        text-align: right;\n",
       "    }\n",
       "</style>\n",
       "<table border=\"1\" class=\"dataframe\">\n",
       "  <thead>\n",
       "    <tr style=\"text-align: right;\">\n",
       "      <th></th>\n",
       "      <th>Year and month</th>\n",
       "      <th>SPI</th>\n",
       "    </tr>\n",
       "  </thead>\n",
       "  <tbody>\n",
       "    <tr>\n",
       "      <th>140</th>\n",
       "      <td>1994-09</td>\n",
       "      <td>-2.163714</td>\n",
       "    </tr>\n",
       "    <tr>\n",
       "      <th>141</th>\n",
       "      <td>1994-10</td>\n",
       "      <td>-2.230607</td>\n",
       "    </tr>\n",
       "    <tr>\n",
       "      <th>142</th>\n",
       "      <td>1994-11</td>\n",
       "      <td>-2.245852</td>\n",
       "    </tr>\n",
       "    <tr>\n",
       "      <th>143</th>\n",
       "      <td>1994-12</td>\n",
       "      <td>-2.300033</td>\n",
       "    </tr>\n",
       "    <tr>\n",
       "      <th>144</th>\n",
       "      <td>1995-01</td>\n",
       "      <td>-2.476514</td>\n",
       "    </tr>\n",
       "  </tbody>\n",
       "</table>\n",
       "</div>"
      ],
      "text/plain": [
       "    Year and month       SPI\n",
       "140        1994-09 -2.163714\n",
       "141        1994-10 -2.230607\n",
       "142        1994-11 -2.245852\n",
       "143        1994-12 -2.300033\n",
       "144        1995-01 -2.476514"
      ]
     },
     "execution_count": 7,
     "metadata": {},
     "output_type": "execute_result"
    }
   ],
   "source": [
    "extreme_drought = dataset[dataset['SPI']<=-2]\n",
    "\n",
    "extreme_drought.head()"
   ]
  },
  {
   "cell_type": "code",
   "execution_count": null,
   "metadata": {},
   "outputs": [],
   "source": []
  }
 ],
 "metadata": {
  "kernelspec": {
   "display_name": "Python 3 (ipykernel)",
   "language": "python",
   "name": "python3"
  },
  "language_info": {
   "codemirror_mode": {
    "name": "ipython",
    "version": 3
   },
   "file_extension": ".py",
   "mimetype": "text/x-python",
   "name": "python",
   "nbconvert_exporter": "python",
   "pygments_lexer": "ipython3",
   "version": "3.11.7"
  }
 },
 "nbformat": 4,
 "nbformat_minor": 4
}
