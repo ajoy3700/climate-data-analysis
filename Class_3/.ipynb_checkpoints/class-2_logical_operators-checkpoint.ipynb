{
 "cells": [
  {
   "cell_type": "markdown",
   "metadata": {},
   "source": [
    "# Practical example of logical operators in Python\n",
    "\n",
    "Trainer: Md. Babul Miah\n",
    "    \n",
    "Assistant director of Research Society (https://researchsociety20.org/teacher-trainer/)\n",
    "    \n",
    "email: babul.bsmrstu16@gmail.com, babul@jbnu.ac.kr\n",
    "\n",
    "& \n",
    "\n",
    "Trainer: Md. Jalal Uddin\n",
    "    \n",
    "Founder and director of Research Society (https://researchsociety20.org/founder-and-director/)\n",
    "    \n",
    "email: dmjalal90@gmail.com, 20205103002@nuist.edu.cn\n"
   ]
  },
  {
   "cell_type": "markdown",
   "metadata": {},
   "source": [
    "# define variable"
   ]
  },
  {
   "cell_type": "code",
   "execution_count": 1,
   "metadata": {},
   "outputs": [],
   "source": [
    "a = 5"
   ]
  },
  {
   "cell_type": "markdown",
   "metadata": {},
   "source": [
    "# Syntax\n",
    "\n",
    "Python's \"and\", \"or\" and \"not\" logical operators are designed to work with \"scalars\". \n",
    "\n",
    "Read more: https://stackoverflow.com/questions/21415661/logical-operators-for-boolean-indexing-in-pandas"
   ]
  },
  {
   "cell_type": "code",
   "execution_count": 2,
   "metadata": {},
   "outputs": [
    {
     "name": "stdout",
     "output_type": "stream",
     "text": [
      "a and a is =  True\n",
      "a and a is =  False\n",
      "a or a is  =  True\n",
      "a or a is  =  False\n",
      "not a is   =  True\n"
     ]
    }
   ],
   "source": [
    "print(\"a and a is = \", a<10 and a>0)    \n",
    "\n",
    "print(\"a and a is = \", a>10 and a>0)\n",
    "\n",
    "print(\"a or a is  = \", a>10 or a>0)\n",
    "\n",
    "print(\"a or a is  = \", a>10 or a<0)\n",
    "\n",
    "print(\"not a is   = \", not(a>10))"
   ]
  },
  {
   "cell_type": "markdown",
   "metadata": {},
   "source": [
    "# Function is suitable for both scalar and vector data."
   ]
  },
  {
   "cell_type": "code",
   "execution_count": 3,
   "metadata": {},
   "outputs": [
    {
     "name": "stdout",
     "output_type": "stream",
     "text": [
      "a and a is =  True\n",
      "a or a is  =  True\n",
      "not a is   =  True\n"
     ]
    }
   ],
   "source": [
    "import numpy as np\n",
    "\n",
    "print(\"a and a is = \",np.logical_and(a<10,a>0))\n",
    "\n",
    "print(\"a or a is  = \",np.logical_or(a>10, a>0))\n",
    "\n",
    "print(\"not a is   = \",np.logical_not(a>10))"
   ]
  },
  {
   "cell_type": "markdown",
   "metadata": {},
   "source": [
    "Note: you can also use operator.and_, operator.or_\n",
    "    \n",
    "https://docs.python.org/3/library/operator.html#operator.and_"
   ]
  },
  {
   "cell_type": "markdown",
   "metadata": {},
   "source": [
    "# Example for real data\n",
    "\n",
    "We will monitor drought (water scarcity) for Rangpur station in Bangladesh from 1994 to 1995\n",
    "\n",
    "The example has been adapted from Uddin et al. (2020). https://link.springer.com/article/10.1007/s12517-020-05302-0"
   ]
  },
  {
   "cell_type": "code",
   "execution_count": 4,
   "metadata": {},
   "outputs": [
    {
     "data": {
      "text/html": [
       "<div>\n",
       "<style scoped>\n",
       "    .dataframe tbody tr th:only-of-type {\n",
       "        vertical-align: middle;\n",
       "    }\n",
       "\n",
       "    .dataframe tbody tr th {\n",
       "        vertical-align: top;\n",
       "    }\n",
       "\n",
       "    .dataframe thead th {\n",
       "        text-align: right;\n",
       "    }\n",
       "</style>\n",
       "<table border=\"1\" class=\"dataframe\">\n",
       "  <thead>\n",
       "    <tr style=\"text-align: right;\">\n",
       "      <th></th>\n",
       "      <th>Year and month</th>\n",
       "      <th>SPI</th>\n",
       "    </tr>\n",
       "  </thead>\n",
       "  <tbody>\n",
       "    <tr>\n",
       "      <th>0</th>\n",
       "      <td>1983-01</td>\n",
       "      <td>-0.285149</td>\n",
       "    </tr>\n",
       "    <tr>\n",
       "      <th>1</th>\n",
       "      <td>1983-02</td>\n",
       "      <td>-0.299666</td>\n",
       "    </tr>\n",
       "    <tr>\n",
       "      <th>2</th>\n",
       "      <td>1983-03</td>\n",
       "      <td>-0.229297</td>\n",
       "    </tr>\n",
       "    <tr>\n",
       "      <th>3</th>\n",
       "      <td>1983-04</td>\n",
       "      <td>-0.382996</td>\n",
       "    </tr>\n",
       "    <tr>\n",
       "      <th>4</th>\n",
       "      <td>1983-05</td>\n",
       "      <td>-0.060437</td>\n",
       "    </tr>\n",
       "  </tbody>\n",
       "</table>\n",
       "</div>"
      ],
      "text/plain": [
       "  Year and month       SPI\n",
       "0        1983-01 -0.285149\n",
       "1        1983-02 -0.299666\n",
       "2        1983-03 -0.229297\n",
       "3        1983-04 -0.382996\n",
       "4        1983-05 -0.060437"
      ]
     },
     "execution_count": 4,
     "metadata": {},
     "output_type": "execute_result"
    }
   ],
   "source": [
    "import pandas as pd\n",
    "import numpy as np\n",
    "\n",
    "dataset = pd.read_excel('drought_data.xlsx')\n",
    "\n",
    "dataset.head()"
   ]
  },
  {
   "cell_type": "code",
   "execution_count": 5,
   "metadata": {},
   "outputs": [
    {
     "data": {
      "text/plain": [
       "133    0.289110\n",
       "134    0.291538\n",
       "135    0.238511\n",
       "136    0.236418\n",
       "137   -0.093880\n",
       "Name: SPI, dtype: float64"
      ]
     },
     "execution_count": 5,
     "metadata": {},
     "output_type": "execute_result"
    }
   ],
   "source": [
    "SPI = dataset.SPI[133:156]   # 1994-1995\n",
    "\n",
    "SPI.head()"
   ]
  },
  {
   "cell_type": "markdown",
   "metadata": {},
   "source": [
    "\n",
    "The climate was wet if the SPI values are greater than 1 and less than 2. Similarly, if the SPI values are less than 1 and less than equal -2, the climate was dry.\n"
   ]
  },
  {
   "cell_type": "code",
   "execution_count": 6,
   "metadata": {},
   "outputs": [
    {
     "name": "stdout",
     "output_type": "stream",
     "text": [
      "wet climate = \n",
      " 133    False\n",
      "134    False\n",
      "135    False\n",
      "136    False\n",
      "137    False\n",
      "138    False\n",
      "139    False\n",
      "140    False\n",
      "141    False\n",
      "142    False\n",
      "143    False\n",
      "144    False\n",
      "145    False\n",
      "146    False\n",
      "147    False\n",
      "148    False\n",
      "149    False\n",
      "150    False\n",
      "151    False\n",
      "152    False\n",
      "153    False\n",
      "154    False\n",
      "155    False\n",
      "Name: SPI, dtype: bool\n"
     ]
    }
   ],
   "source": [
    "wet_climate = np.logical_and(SPI.gt(1), SPI.lt(2))\n",
    "\n",
    "print(\"wet climate = \\n\", wet_climate)"
   ]
  },
  {
   "cell_type": "code",
   "execution_count": 7,
   "metadata": {},
   "outputs": [
    {
     "name": "stdout",
     "output_type": "stream",
     "text": [
      "dry climate = \n",
      " 133    True\n",
      "134    True\n",
      "135    True\n",
      "136    True\n",
      "137    True\n",
      "138    True\n",
      "139    True\n",
      "140    True\n",
      "141    True\n",
      "142    True\n",
      "143    True\n",
      "144    True\n",
      "145    True\n",
      "146    True\n",
      "147    True\n",
      "148    True\n",
      "149    True\n",
      "150    True\n",
      "151    True\n",
      "152    True\n",
      "153    True\n",
      "154    True\n",
      "155    True\n",
      "Name: SPI, dtype: bool\n"
     ]
    }
   ],
   "source": [
    "dry_climate = np.logical_or(SPI.lt(1), SPI.le(-2))\n",
    "\n",
    "print(\"dry climate = \\n\",dry_climate)"
   ]
  },
  {
   "cell_type": "code",
   "execution_count": 8,
   "metadata": {},
   "outputs": [
    {
     "name": "stdout",
     "output_type": "stream",
     "text": [
      "not extreme wet climate = \n",
      " 133    True\n",
      "134    True\n",
      "135    True\n",
      "136    True\n",
      "137    True\n",
      "138    True\n",
      "139    True\n",
      "140    True\n",
      "141    True\n",
      "142    True\n",
      "143    True\n",
      "144    True\n",
      "145    True\n",
      "146    True\n",
      "147    True\n",
      "148    True\n",
      "149    True\n",
      "150    True\n",
      "151    True\n",
      "152    True\n",
      "153    True\n",
      "154    True\n",
      "155    True\n",
      "Name: SPI, dtype: bool\n"
     ]
    }
   ],
   "source": [
    "print(\"not extreme wet climate = \\n\", np.logical_not(SPI>2))"
   ]
  },
  {
   "cell_type": "markdown",
   "metadata": {},
   "source": [
    "# create a datafram for wet climate and dry climate"
   ]
  },
  {
   "cell_type": "code",
   "execution_count": 9,
   "metadata": {},
   "outputs": [
    {
     "data": {
      "text/html": [
       "<div>\n",
       "<style scoped>\n",
       "    .dataframe tbody tr th:only-of-type {\n",
       "        vertical-align: middle;\n",
       "    }\n",
       "\n",
       "    .dataframe tbody tr th {\n",
       "        vertical-align: top;\n",
       "    }\n",
       "\n",
       "    .dataframe thead th {\n",
       "        text-align: right;\n",
       "    }\n",
       "</style>\n",
       "<table border=\"1\" class=\"dataframe\">\n",
       "  <thead>\n",
       "    <tr style=\"text-align: right;\">\n",
       "      <th></th>\n",
       "      <th>Year and month</th>\n",
       "      <th>SPI</th>\n",
       "    </tr>\n",
       "  </thead>\n",
       "  <tbody>\n",
       "    <tr>\n",
       "      <th>17</th>\n",
       "      <td>1984-06</td>\n",
       "      <td>1.477008</td>\n",
       "    </tr>\n",
       "    <tr>\n",
       "      <th>18</th>\n",
       "      <td>1984-07</td>\n",
       "      <td>1.814248</td>\n",
       "    </tr>\n",
       "    <tr>\n",
       "      <th>19</th>\n",
       "      <td>1984-08</td>\n",
       "      <td>1.753462</td>\n",
       "    </tr>\n",
       "    <tr>\n",
       "      <th>29</th>\n",
       "      <td>1985-06</td>\n",
       "      <td>1.541693</td>\n",
       "    </tr>\n",
       "    <tr>\n",
       "      <th>30</th>\n",
       "      <td>1985-07</td>\n",
       "      <td>1.540050</td>\n",
       "    </tr>\n",
       "  </tbody>\n",
       "</table>\n",
       "</div>"
      ],
      "text/plain": [
       "   Year and month       SPI\n",
       "17        1984-06  1.477008\n",
       "18        1984-07  1.814248\n",
       "19        1984-08  1.753462\n",
       "29        1985-06  1.541693\n",
       "30        1985-07  1.540050"
      ]
     },
     "execution_count": 9,
     "metadata": {},
     "output_type": "execute_result"
    }
   ],
   "source": [
    "df_wet_climate = dataset[np.logical_and(dataset['SPI'].gt(1), dataset['SPI'].lt(2))]\n",
    "\n",
    "df_wet_climate.head()"
   ]
  },
  {
   "cell_type": "code",
   "execution_count": 10,
   "metadata": {},
   "outputs": [
    {
     "data": {
      "text/html": [
       "<div>\n",
       "<style scoped>\n",
       "    .dataframe tbody tr th:only-of-type {\n",
       "        vertical-align: middle;\n",
       "    }\n",
       "\n",
       "    .dataframe tbody tr th {\n",
       "        vertical-align: top;\n",
       "    }\n",
       "\n",
       "    .dataframe thead th {\n",
       "        text-align: right;\n",
       "    }\n",
       "</style>\n",
       "<table border=\"1\" class=\"dataframe\">\n",
       "  <thead>\n",
       "    <tr style=\"text-align: right;\">\n",
       "      <th></th>\n",
       "      <th>Year and month</th>\n",
       "      <th>SPI</th>\n",
       "    </tr>\n",
       "  </thead>\n",
       "  <tbody>\n",
       "    <tr>\n",
       "      <th>140</th>\n",
       "      <td>1994-09</td>\n",
       "      <td>-2.163714</td>\n",
       "    </tr>\n",
       "    <tr>\n",
       "      <th>141</th>\n",
       "      <td>1994-10</td>\n",
       "      <td>-2.230607</td>\n",
       "    </tr>\n",
       "    <tr>\n",
       "      <th>142</th>\n",
       "      <td>1994-11</td>\n",
       "      <td>-2.245852</td>\n",
       "    </tr>\n",
       "    <tr>\n",
       "      <th>143</th>\n",
       "      <td>1994-12</td>\n",
       "      <td>-2.300033</td>\n",
       "    </tr>\n",
       "    <tr>\n",
       "      <th>144</th>\n",
       "      <td>1995-01</td>\n",
       "      <td>-2.476514</td>\n",
       "    </tr>\n",
       "  </tbody>\n",
       "</table>\n",
       "</div>"
      ],
      "text/plain": [
       "    Year and month       SPI\n",
       "140        1994-09 -2.163714\n",
       "141        1994-10 -2.230607\n",
       "142        1994-11 -2.245852\n",
       "143        1994-12 -2.300033\n",
       "144        1995-01 -2.476514"
      ]
     },
     "execution_count": 10,
     "metadata": {},
     "output_type": "execute_result"
    }
   ],
   "source": [
    "df_dry_climate = dataset[np.logical_and(dataset['SPI'].lt(1), dataset['SPI'].le(-2))]\n",
    "\n",
    "df_dry_climate.head()"
   ]
  },
  {
   "cell_type": "code",
   "execution_count": null,
   "metadata": {},
   "outputs": [],
   "source": []
  }
 ],
 "metadata": {
  "kernelspec": {
   "display_name": "Python 3 (ipykernel)",
   "language": "python",
   "name": "python3"
  },
  "language_info": {
   "codemirror_mode": {
    "name": "ipython",
    "version": 3
   },
   "file_extension": ".py",
   "mimetype": "text/x-python",
   "name": "python",
   "nbconvert_exporter": "python",
   "pygments_lexer": "ipython3",
   "version": "3.11.5"
  }
 },
 "nbformat": 4,
 "nbformat_minor": 4
}
